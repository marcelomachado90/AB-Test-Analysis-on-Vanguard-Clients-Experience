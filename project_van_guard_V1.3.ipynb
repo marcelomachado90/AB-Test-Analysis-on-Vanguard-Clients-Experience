{
 "cells": [
  {
   "cell_type": "code",
   "execution_count": 47,
   "metadata": {},
   "outputs": [],
   "source": [
    "import pandas as pd\n",
    "import matplotlib.pyplot as plt\n",
    "import seaborn as sns\n",
    "import numpy as np\n",
    "from statsmodels.stats.proportion import proportions_ztest\n",
    "from scipy.stats import ttest_ind\n",
    "import scipy.stats as st"
   ]
  },
  {
   "cell_type": "code",
   "execution_count": 3,
   "metadata": {},
   "outputs": [
    {
     "data": {
      "text/plain": [
       "'########################################## STEP > 1. Loading and understanding the datasets #################################################'"
      ]
     },
     "execution_count": 3,
     "metadata": {},
     "output_type": "execute_result"
    }
   ],
   "source": [
    "'''########################################## STEP > 1. Loading and understanding the datasets #################################################'''"
   ]
  },
  {
   "cell_type": "code",
   "execution_count": 4,
   "metadata": {},
   "outputs": [
    {
     "data": {
      "text/html": [
       "<div>\n",
       "<style scoped>\n",
       "    .dataframe tbody tr th:only-of-type {\n",
       "        vertical-align: middle;\n",
       "    }\n",
       "\n",
       "    .dataframe tbody tr th {\n",
       "        vertical-align: top;\n",
       "    }\n",
       "\n",
       "    .dataframe thead th {\n",
       "        text-align: right;\n",
       "    }\n",
       "</style>\n",
       "<table border=\"1\" class=\"dataframe\">\n",
       "  <thead>\n",
       "    <tr style=\"text-align: right;\">\n",
       "      <th></th>\n",
       "      <th>client_id</th>\n",
       "      <th>clnt_tenure_yr</th>\n",
       "      <th>clnt_tenure_mnth</th>\n",
       "      <th>clnt_age</th>\n",
       "      <th>gendr</th>\n",
       "      <th>num_accts</th>\n",
       "      <th>bal</th>\n",
       "      <th>calls_6_mnth</th>\n",
       "      <th>logons_6_mnth</th>\n",
       "    </tr>\n",
       "  </thead>\n",
       "  <tbody>\n",
       "    <tr>\n",
       "      <th>0</th>\n",
       "      <td>836976</td>\n",
       "      <td>6.0</td>\n",
       "      <td>73.0</td>\n",
       "      <td>60.5</td>\n",
       "      <td>U</td>\n",
       "      <td>2.0</td>\n",
       "      <td>45105.30</td>\n",
       "      <td>6.0</td>\n",
       "      <td>9.0</td>\n",
       "    </tr>\n",
       "    <tr>\n",
       "      <th>1</th>\n",
       "      <td>2304905</td>\n",
       "      <td>7.0</td>\n",
       "      <td>94.0</td>\n",
       "      <td>58.0</td>\n",
       "      <td>U</td>\n",
       "      <td>2.0</td>\n",
       "      <td>110860.30</td>\n",
       "      <td>6.0</td>\n",
       "      <td>9.0</td>\n",
       "    </tr>\n",
       "    <tr>\n",
       "      <th>2</th>\n",
       "      <td>1439522</td>\n",
       "      <td>5.0</td>\n",
       "      <td>64.0</td>\n",
       "      <td>32.0</td>\n",
       "      <td>U</td>\n",
       "      <td>2.0</td>\n",
       "      <td>52467.79</td>\n",
       "      <td>6.0</td>\n",
       "      <td>9.0</td>\n",
       "    </tr>\n",
       "    <tr>\n",
       "      <th>3</th>\n",
       "      <td>1562045</td>\n",
       "      <td>16.0</td>\n",
       "      <td>198.0</td>\n",
       "      <td>49.0</td>\n",
       "      <td>M</td>\n",
       "      <td>2.0</td>\n",
       "      <td>67454.65</td>\n",
       "      <td>3.0</td>\n",
       "      <td>6.0</td>\n",
       "    </tr>\n",
       "  </tbody>\n",
       "</table>\n",
       "</div>"
      ],
      "text/plain": [
       "   client_id  clnt_tenure_yr  clnt_tenure_mnth  clnt_age gendr  num_accts  \\\n",
       "0     836976             6.0              73.0      60.5     U        2.0   \n",
       "1    2304905             7.0              94.0      58.0     U        2.0   \n",
       "2    1439522             5.0              64.0      32.0     U        2.0   \n",
       "3    1562045            16.0             198.0      49.0     M        2.0   \n",
       "\n",
       "         bal  calls_6_mnth  logons_6_mnth  \n",
       "0   45105.30           6.0            9.0  \n",
       "1  110860.30           6.0            9.0  \n",
       "2   52467.79           6.0            9.0  \n",
       "3   67454.65           3.0            6.0  "
      ]
     },
     "execution_count": 4,
     "metadata": {},
     "output_type": "execute_result"
    }
   ],
   "source": [
    "# EXPLORING CLIENT PROFILE DATASET\n",
    "\n",
    "df_final_demo = pd.read_csv('df_final_demo.txt', delimiter = \",\")\n",
    "df_final_demo.head(4)"
   ]
  },
  {
   "cell_type": "code",
   "execution_count": 5,
   "metadata": {},
   "outputs": [
    {
     "data": {
      "text/html": [
       "<div>\n",
       "<style scoped>\n",
       "    .dataframe tbody tr th:only-of-type {\n",
       "        vertical-align: middle;\n",
       "    }\n",
       "\n",
       "    .dataframe tbody tr th {\n",
       "        vertical-align: top;\n",
       "    }\n",
       "\n",
       "    .dataframe thead th {\n",
       "        text-align: right;\n",
       "    }\n",
       "</style>\n",
       "<table border=\"1\" class=\"dataframe\">\n",
       "  <thead>\n",
       "    <tr style=\"text-align: right;\">\n",
       "      <th></th>\n",
       "      <th>client_id</th>\n",
       "      <th>visitor_id</th>\n",
       "      <th>visit_id</th>\n",
       "      <th>process_step</th>\n",
       "      <th>date_time</th>\n",
       "    </tr>\n",
       "  </thead>\n",
       "  <tbody>\n",
       "    <tr>\n",
       "      <th>0</th>\n",
       "      <td>9988021</td>\n",
       "      <td>580560515_7732621733</td>\n",
       "      <td>781255054_21935453173_531117</td>\n",
       "      <td>step_3</td>\n",
       "      <td>2017-04-17 15:27:07</td>\n",
       "    </tr>\n",
       "    <tr>\n",
       "      <th>1</th>\n",
       "      <td>9988021</td>\n",
       "      <td>580560515_7732621733</td>\n",
       "      <td>781255054_21935453173_531117</td>\n",
       "      <td>step_2</td>\n",
       "      <td>2017-04-17 15:26:51</td>\n",
       "    </tr>\n",
       "    <tr>\n",
       "      <th>2</th>\n",
       "      <td>9988021</td>\n",
       "      <td>580560515_7732621733</td>\n",
       "      <td>781255054_21935453173_531117</td>\n",
       "      <td>step_3</td>\n",
       "      <td>2017-04-17 15:19:22</td>\n",
       "    </tr>\n",
       "    <tr>\n",
       "      <th>3</th>\n",
       "      <td>9988021</td>\n",
       "      <td>580560515_7732621733</td>\n",
       "      <td>781255054_21935453173_531117</td>\n",
       "      <td>step_2</td>\n",
       "      <td>2017-04-17 15:19:13</td>\n",
       "    </tr>\n",
       "  </tbody>\n",
       "</table>\n",
       "</div>"
      ],
      "text/plain": [
       "   client_id            visitor_id                      visit_id process_step  \\\n",
       "0    9988021  580560515_7732621733  781255054_21935453173_531117       step_3   \n",
       "1    9988021  580560515_7732621733  781255054_21935453173_531117       step_2   \n",
       "2    9988021  580560515_7732621733  781255054_21935453173_531117       step_3   \n",
       "3    9988021  580560515_7732621733  781255054_21935453173_531117       step_2   \n",
       "\n",
       "             date_time  \n",
       "0  2017-04-17 15:27:07  \n",
       "1  2017-04-17 15:26:51  \n",
       "2  2017-04-17 15:19:22  \n",
       "3  2017-04-17 15:19:13  "
      ]
     },
     "execution_count": 5,
     "metadata": {},
     "output_type": "execute_result"
    }
   ],
   "source": [
    "# LOADING AND CONCATING DIGITAL FOOTPRINT DATASET\n",
    "\n",
    "df_21 = pd.read_csv('df_final_web_data_pt_1.txt', delimiter = \",\")\n",
    "df_22 = pd.read_csv('df_final_web_data_pt_2.txt', delimiter = \",\")\n",
    "df_final_web_data = pd.concat([df_21,df_22], axis = 0)\n",
    "df_final_web_data.head(4)"
   ]
  },
  {
   "cell_type": "code",
   "execution_count": 6,
   "metadata": {},
   "outputs": [
    {
     "data": {
      "text/html": [
       "<div>\n",
       "<style scoped>\n",
       "    .dataframe tbody tr th:only-of-type {\n",
       "        vertical-align: middle;\n",
       "    }\n",
       "\n",
       "    .dataframe tbody tr th {\n",
       "        vertical-align: top;\n",
       "    }\n",
       "\n",
       "    .dataframe thead th {\n",
       "        text-align: right;\n",
       "    }\n",
       "</style>\n",
       "<table border=\"1\" class=\"dataframe\">\n",
       "  <thead>\n",
       "    <tr style=\"text-align: right;\">\n",
       "      <th></th>\n",
       "      <th>client_id</th>\n",
       "      <th>Variation</th>\n",
       "    </tr>\n",
       "  </thead>\n",
       "  <tbody>\n",
       "    <tr>\n",
       "      <th>0</th>\n",
       "      <td>9988021</td>\n",
       "      <td>Test</td>\n",
       "    </tr>\n",
       "    <tr>\n",
       "      <th>1</th>\n",
       "      <td>8320017</td>\n",
       "      <td>Test</td>\n",
       "    </tr>\n",
       "    <tr>\n",
       "      <th>2</th>\n",
       "      <td>4033851</td>\n",
       "      <td>Control</td>\n",
       "    </tr>\n",
       "    <tr>\n",
       "      <th>3</th>\n",
       "      <td>1982004</td>\n",
       "      <td>Test</td>\n",
       "    </tr>\n",
       "  </tbody>\n",
       "</table>\n",
       "</div>"
      ],
      "text/plain": [
       "   client_id Variation\n",
       "0    9988021      Test\n",
       "1    8320017      Test\n",
       "2    4033851   Control\n",
       "3    1982004      Test"
      ]
     },
     "execution_count": 6,
     "metadata": {},
     "output_type": "execute_result"
    }
   ],
   "source": [
    "# LOADING EXPERIMENT ROSTER DATASET\n",
    "\n",
    "df_final_experiment_clients = pd.read_csv('df_final_experiment_clients.txt', delimiter = \",\")\n",
    "df_final_experiment_clients.head(4)"
   ]
  },
  {
   "cell_type": "code",
   "execution_count": 7,
   "metadata": {},
   "outputs": [
    {
     "data": {
      "text/plain": [
       "'########################################## STEP > 2. Data cleaning #################################################'"
      ]
     },
     "execution_count": 7,
     "metadata": {},
     "output_type": "execute_result"
    }
   ],
   "source": [
    "'''########################################## STEP > 2. Data cleaning #################################################'''"
   ]
  },
  {
   "cell_type": "code",
   "execution_count": 8,
   "metadata": {},
   "outputs": [],
   "source": [
    "#first df cleaning........................."
   ]
  },
  {
   "cell_type": "code",
   "execution_count": 9,
   "metadata": {},
   "outputs": [
    {
     "data": {
      "text/plain": [
       "(70609, 9)"
      ]
     },
     "execution_count": 9,
     "metadata": {},
     "output_type": "execute_result"
    }
   ],
   "source": [
    "df_final_demo.shape                                         #checking row and column number"
   ]
  },
  {
   "cell_type": "code",
   "execution_count": 10,
   "metadata": {},
   "outputs": [
    {
     "data": {
      "text/plain": [
       "(70594, 9)"
      ]
     },
     "execution_count": 10,
     "metadata": {},
     "output_type": "execute_result"
    }
   ],
   "source": [
    "df_1 = df_final_demo.dropna(how='any')                       #dropping null values\n",
    "df_1.shape"
   ]
  },
  {
   "cell_type": "code",
   "execution_count": 11,
   "metadata": {},
   "outputs": [
    {
     "data": {
      "text/plain": [
       "False    70594\n",
       "Name: count, dtype: int64"
      ]
     },
     "execution_count": 11,
     "metadata": {},
     "output_type": "execute_result"
    }
   ],
   "source": [
    "df_1.duplicated().value_counts()                             #checking duplicated "
   ]
  },
  {
   "cell_type": "code",
   "execution_count": 12,
   "metadata": {},
   "outputs": [
    {
     "data": {
      "text/plain": [
       "Index(['client_id', 'clnt_tenure_yr', 'clnt_tenure_mnth', 'clnt_age', 'gendr',\n",
       "       'num_accts', 'bal', 'calls_6_mnth', 'logons_6_mnth'],\n",
       "      dtype='object')"
      ]
     },
     "execution_count": 12,
     "metadata": {},
     "output_type": "execute_result"
    }
   ],
   "source": [
    "df_1.columns                                                 #checking column names"
   ]
  },
  {
   "cell_type": "code",
   "execution_count": 13,
   "metadata": {},
   "outputs": [
    {
     "name": "stderr",
     "output_type": "stream",
     "text": [
      "C:\\Users\\Amira\\AppData\\Local\\Temp\\ipykernel_14344\\2671138120.py:1: SettingWithCopyWarning: \n",
      "A value is trying to be set on a copy of a slice from a DataFrame\n",
      "\n",
      "See the caveats in the documentation: https://pandas.pydata.org/pandas-docs/stable/user_guide/indexing.html#returning-a-view-versus-a-copy\n",
      "  df_1.rename(columns={'clnt_tenure_yr' : 'client_tenure_yr',\n"
     ]
    },
    {
     "data": {
      "text/plain": [
       "Index(['client_id', 'client_tenure_yr', 'client_tenure_mnth', 'client_age',\n",
       "       'gender', 'num_accts', 'balance', 'calls_6_mnth', 'logons_6_mnth'],\n",
       "      dtype='object')"
      ]
     },
     "execution_count": 13,
     "metadata": {},
     "output_type": "execute_result"
    }
   ],
   "source": [
    "df_1.rename(columns={'clnt_tenure_yr' : 'client_tenure_yr',\n",
    "                     'clnt_tenure_mnth' : 'client_tenure_mnth',\n",
    "                     'clnt_age' : 'client_age', \n",
    "                     'gendr': 'gender',\n",
    "                     'bal': 'balance'},\n",
    "                     inplace = True)\n",
    "df_1.columns                                                 #fixing column names"
   ]
  },
  {
   "cell_type": "code",
   "execution_count": 14,
   "metadata": {},
   "outputs": [
    {
     "data": {
      "text/plain": [
       "array(['U', 'M', 'F', 'X'], dtype=object)"
      ]
     },
     "execution_count": 14,
     "metadata": {},
     "output_type": "execute_result"
    }
   ],
   "source": [
    "df_1[\"gender\"].unique()                                   #checking gender column"
   ]
  },
  {
   "cell_type": "code",
   "execution_count": 15,
   "metadata": {},
   "outputs": [
    {
     "name": "stderr",
     "output_type": "stream",
     "text": [
      "C:\\Users\\Amira\\AppData\\Local\\Temp\\ipykernel_14344\\899688171.py:7: SettingWithCopyWarning: \n",
      "A value is trying to be set on a copy of a slice from a DataFrame.\n",
      "Try using .loc[row_indexer,col_indexer] = value instead\n",
      "\n",
      "See the caveats in the documentation: https://pandas.pydata.org/pandas-docs/stable/user_guide/indexing.html#returning-a-view-versus-a-copy\n",
      "  df_1['gender'] = df_1['gender'].replace(mapping)        #renaming the gender\n"
     ]
    },
    {
     "data": {
      "text/plain": [
       "array(['Unknown', 'Male', 'Female'], dtype=object)"
      ]
     },
     "execution_count": 15,
     "metadata": {},
     "output_type": "execute_result"
    }
   ],
   "source": [
    "mapping = {\n",
    "    'U': 'Unknown',\n",
    "    'M': 'Male',\n",
    "    'F': 'Female',\n",
    "    'X': 'Unknown',\n",
    "}\n",
    "df_1['gender'] = df_1['gender'].replace(mapping)        #renaming the gender \n",
    "df_1['gender'].unique()"
   ]
  },
  {
   "cell_type": "code",
   "execution_count": 16,
   "metadata": {},
   "outputs": [],
   "source": [
    "#second df cleaning..............."
   ]
  },
  {
   "cell_type": "code",
   "execution_count": 17,
   "metadata": {},
   "outputs": [
    {
     "data": {
      "text/plain": [
       "(755405, 5)"
      ]
     },
     "execution_count": 17,
     "metadata": {},
     "output_type": "execute_result"
    }
   ],
   "source": [
    "df_final_web_data.shape                                         #checking row and column number"
   ]
  },
  {
   "cell_type": "code",
   "execution_count": 18,
   "metadata": {},
   "outputs": [
    {
     "data": {
      "text/plain": [
       "(755405, 5)"
      ]
     },
     "execution_count": 18,
     "metadata": {},
     "output_type": "execute_result"
    }
   ],
   "source": [
    "df_2 = df_final_web_data.dropna(how='any')                       #dropping null values\n",
    "df_2.shape"
   ]
  },
  {
   "cell_type": "code",
   "execution_count": 19,
   "metadata": {},
   "outputs": [
    {
     "data": {
      "text/plain": [
       "False    744641\n",
       "True      10764\n",
       "Name: count, dtype: int64"
      ]
     },
     "execution_count": 19,
     "metadata": {},
     "output_type": "execute_result"
    }
   ],
   "source": [
    "df_2.duplicated().value_counts()                                 #checking duplicated "
   ]
  },
  {
   "cell_type": "code",
   "execution_count": 20,
   "metadata": {},
   "outputs": [
    {
     "data": {
      "text/plain": [
       "(744641, 5)"
      ]
     },
     "execution_count": 20,
     "metadata": {},
     "output_type": "execute_result"
    }
   ],
   "source": [
    "df_2 = df_2.drop_duplicates()                                    #dropping duplicates\n",
    "df_2.shape"
   ]
  },
  {
   "cell_type": "code",
   "execution_count": 21,
   "metadata": {},
   "outputs": [],
   "source": [
    "#third df cleaning...................."
   ]
  },
  {
   "cell_type": "code",
   "execution_count": 22,
   "metadata": {},
   "outputs": [
    {
     "data": {
      "text/plain": [
       "(70609, 2)"
      ]
     },
     "execution_count": 22,
     "metadata": {},
     "output_type": "execute_result"
    }
   ],
   "source": [
    "df_final_experiment_clients.shape                                #checking row and column number"
   ]
  },
  {
   "cell_type": "code",
   "execution_count": 23,
   "metadata": {},
   "outputs": [
    {
     "data": {
      "text/plain": [
       "(50500, 2)"
      ]
     },
     "execution_count": 23,
     "metadata": {},
     "output_type": "execute_result"
    }
   ],
   "source": [
    "df_3 = df_final_experiment_clients.dropna(how='any')               #dropping null values \n",
    "df_3.shape"
   ]
  },
  {
   "cell_type": "code",
   "execution_count": 24,
   "metadata": {},
   "outputs": [
    {
     "data": {
      "text/plain": [
       "False    50500\n",
       "Name: count, dtype: int64"
      ]
     },
     "execution_count": 24,
     "metadata": {},
     "output_type": "execute_result"
    }
   ],
   "source": [
    "df_3.duplicated().value_counts()                                 #checking duplicated "
   ]
  },
  {
   "cell_type": "code",
   "execution_count": 25,
   "metadata": {},
   "outputs": [
    {
     "data": {
      "text/plain": [
       "Index(['client_id', 'Variation'], dtype='object')"
      ]
     },
     "execution_count": 25,
     "metadata": {},
     "output_type": "execute_result"
    }
   ],
   "source": [
    "df_3.columns                                                   #checking column name"
   ]
  },
  {
   "cell_type": "code",
   "execution_count": 26,
   "metadata": {},
   "outputs": [
    {
     "name": "stderr",
     "output_type": "stream",
     "text": [
      "C:\\Users\\Amira\\AppData\\Local\\Temp\\ipykernel_14344\\2785851822.py:1: SettingWithCopyWarning: \n",
      "A value is trying to be set on a copy of a slice from a DataFrame\n",
      "\n",
      "See the caveats in the documentation: https://pandas.pydata.org/pandas-docs/stable/user_guide/indexing.html#returning-a-view-versus-a-copy\n",
      "  df_3.rename(columns={'Variation':'groups'}, inplace=True)      #changing the column name from variation to 'groups'\n"
     ]
    }
   ],
   "source": [
    "df_3.rename(columns={'Variation':'groups'}, inplace=True)      #changing the column name from variation to 'groups'"
   ]
  },
  {
   "cell_type": "code",
   "execution_count": 27,
   "metadata": {},
   "outputs": [],
   "source": [
    "############################ CLEANING DONE ################################"
   ]
  },
  {
   "cell_type": "code",
   "execution_count": null,
   "metadata": {},
   "outputs": [],
   "source": []
  },
  {
   "cell_type": "code",
   "execution_count": 28,
   "metadata": {},
   "outputs": [
    {
     "data": {
      "text/plain": [
       "'########################################## STEP 3.1 > Analysing the completion rate #################################################'"
      ]
     },
     "execution_count": 28,
     "metadata": {},
     "output_type": "execute_result"
    }
   ],
   "source": [
    "'''########################################## STEP 3.1 > Analysing the completion rate #################################################'''"
   ]
  },
  {
   "cell_type": "code",
   "execution_count": 29,
   "metadata": {},
   "outputs": [
    {
     "data": {
      "text/plain": [
       "(317235, 6)"
      ]
     },
     "execution_count": 29,
     "metadata": {},
     "output_type": "execute_result"
    }
   ],
   "source": [
    "df_client_activity = pd.merge(df_2, df_3, on=\"client_id\")     # merging df_2 with df_3 to define test and contol group users\n",
    "df_client_activity.shape"
   ]
  },
  {
   "cell_type": "code",
   "execution_count": 30,
   "metadata": {},
   "outputs": [
    {
     "name": "stdout",
     "output_type": "stream",
     "text": [
      "(176699, 6)\n",
      "(140536, 6)\n"
     ]
    }
   ],
   "source": [
    "df_test = df_client_activity[df_client_activity[\"groups\"]==\"Test\"]          # separating \"Test\" & \"Control\" group users on two df\n",
    "df_control = df_client_activity[df_client_activity[\"groups\"]==\"Control\"]\n",
    "\n",
    "print(df_test.shape)\n",
    "print(df_control.shape)"
   ]
  },
  {
   "cell_type": "code",
   "execution_count": 31,
   "metadata": {},
   "outputs": [
    {
     "name": "stdout",
     "output_type": "stream",
     "text": [
      "Test group users completion rate: 14.49%\n",
      "Control group users completion rate: 12.34%\n"
     ]
    }
   ],
   "source": [
    "# separating user from \"Test\" & \"Control\" group user who reach the confirm stage\n",
    "# and counting as well how many users reach the final stage\n",
    "\n",
    "df_test_confirm = df_test.loc[(df_test.process_step == \"confirm\")][\"process_step\"].count()\n",
    "df_control_confirm = df_control.loc[(df_control.process_step == \"confirm\")][\"process_step\"].count()\n",
    "\n",
    "test_total_users = df_test['process_step'].count()\n",
    "control_total_users = df_control['process_step'].count()\n",
    "\n",
    "# Calculating the completion rate for both group\n",
    "test_completion_rate = df_test_confirm / test_total_users\n",
    "control_completion_rate = df_control_confirm / control_total_users\n",
    "\n",
    "print(f\"Test group users completion rate: {test_completion_rate:.2%}\")\n",
    "print(f\"Control group users completion rate: {control_completion_rate:.2%}\")"
   ]
  },
  {
   "cell_type": "code",
   "execution_count": 32,
   "metadata": {},
   "outputs": [
    {
     "name": "stdout",
     "output_type": "stream",
     "text": [
      "Z-statistic: 17.6027\n",
      "P-value: 0.0000\n",
      "P-value: 2.3502234547775717e-69\n",
      "Reject the null hypothesis: There is a significant difference between the completion rates.\n"
     ]
    }
   ],
   "source": [
    "#first hypoooooooooooooooooooooooooooooooooooooooooooooooooooooooooooooooooooooooooo THESIS...............\n",
    "\n",
    "\n",
    "#h0 = between test and control group the completion rate difference is more than 5% \n",
    "#h1 = completion rate difference is not more than 5% \n",
    "\n",
    "successes = [df_test_confirm, df_control_confirm]\n",
    "nobs = [test_total_users, control_total_users]\n",
    "z_stat, p_val = proportions_ztest(successes, nobs)\n",
    "print(f'Z-statistic: {z_stat:.4f}')\n",
    "print(f'P-value: {p_val:.4f}')\n",
    "print(f'P-value: {p_val:}')\n",
    "alpha = 0.05\n",
    "if p_val < alpha:\n",
    "    print(\"Reject the null hypothesis: There is a significant difference between the completion rates.\")\n",
    "else:\n",
    "    print(\"Fail to reject the null hypothesis: There is no significant difference between the completion rates.\")"
   ]
  },
  {
   "cell_type": "code",
   "execution_count": null,
   "metadata": {},
   "outputs": [],
   "source": []
  },
  {
   "cell_type": "code",
   "execution_count": 33,
   "metadata": {},
   "outputs": [
    {
     "data": {
      "text/plain": [
       "'################################## STEP 3.2 > Analyzing the ERROR rate for the TEST & CONTROL GROUP USER ###############################'"
      ]
     },
     "execution_count": 33,
     "metadata": {},
     "output_type": "execute_result"
    }
   ],
   "source": [
    "'''################################## STEP 3.2 > Analyzing the ERROR rate for the TEST & CONTROL GROUP USER ###############################'''"
   ]
  },
  {
   "cell_type": "code",
   "execution_count": 34,
   "metadata": {},
   "outputs": [
    {
     "name": "stderr",
     "output_type": "stream",
     "text": [
      "C:\\Users\\Amira\\AppData\\Local\\Temp\\ipykernel_14344\\1055979950.py:9: SettingWithCopyWarning: \n",
      "A value is trying to be set on a copy of a slice from a DataFrame.\n",
      "Try using .loc[row_indexer,col_indexer] = value instead\n",
      "\n",
      "See the caveats in the documentation: https://pandas.pydata.org/pandas-docs/stable/user_guide/indexing.html#returning-a-view-versus-a-copy\n",
      "  df_test['process_step'] = df_test['process_step'].replace(mapping)\n",
      "C:\\Users\\Amira\\AppData\\Local\\Temp\\ipykernel_14344\\1055979950.py:13: SettingWithCopyWarning: \n",
      "A value is trying to be set on a copy of a slice from a DataFrame.\n",
      "Try using .loc[row_indexer,col_indexer] = value instead\n",
      "\n",
      "See the caveats in the documentation: https://pandas.pydata.org/pandas-docs/stable/user_guide/indexing.html#returning-a-view-versus-a-copy\n",
      "  df_test[\"prev_step\"] = df_test.groupby(['visitor_id', 'visit_id'])['process_step'].shift(-1)\n",
      "C:\\Users\\Amira\\AppData\\Local\\Temp\\ipykernel_14344\\1055979950.py:18: SettingWithCopyWarning: \n",
      "A value is trying to be set on a copy of a slice from a DataFrame.\n",
      "Try using .loc[row_indexer,col_indexer] = value instead\n",
      "\n",
      "See the caveats in the documentation: https://pandas.pydata.org/pandas-docs/stable/user_guide/indexing.html#returning-a-view-versus-a-copy\n",
      "  df_test[\"error\"] = test_error_rate\n",
      "C:\\Users\\Amira\\AppData\\Local\\Temp\\ipykernel_14344\\1055979950.py:35: SettingWithCopyWarning: \n",
      "A value is trying to be set on a copy of a slice from a DataFrame.\n",
      "Try using .loc[row_indexer,col_indexer] = value instead\n",
      "\n",
      "See the caveats in the documentation: https://pandas.pydata.org/pandas-docs/stable/user_guide/indexing.html#returning-a-view-versus-a-copy\n",
      "  df_control['process_step'] = df_control['process_step'].replace(mapping)\n",
      "C:\\Users\\Amira\\AppData\\Local\\Temp\\ipykernel_14344\\1055979950.py:37: SettingWithCopyWarning: \n",
      "A value is trying to be set on a copy of a slice from a DataFrame.\n",
      "Try using .loc[row_indexer,col_indexer] = value instead\n",
      "\n",
      "See the caveats in the documentation: https://pandas.pydata.org/pandas-docs/stable/user_guide/indexing.html#returning-a-view-versus-a-copy\n",
      "  df_control[\"prev_step\"] = df_control.groupby(['visitor_id', 'visit_id'])['process_step'].shift(-1)\n",
      "C:\\Users\\Amira\\AppData\\Local\\Temp\\ipykernel_14344\\1055979950.py:40: SettingWithCopyWarning: \n",
      "A value is trying to be set on a copy of a slice from a DataFrame.\n",
      "Try using .loc[row_indexer,col_indexer] = value instead\n",
      "\n",
      "See the caveats in the documentation: https://pandas.pydata.org/pandas-docs/stable/user_guide/indexing.html#returning-a-view-versus-a-copy\n",
      "  df_control[\"error\"] = control_error_rate\n"
     ]
    }
   ],
   "source": [
    "# renaming the value for the process_steps column  for test group\n",
    "mapping = {\n",
    "    'start': 'step_0',\n",
    "    'step_1': 'step_1',\n",
    "    'step_2': 'step_2',\n",
    "    'step_3': 'step_3',\n",
    "    'confirm': 'step_4'\n",
    "}\n",
    "df_test['process_step'] = df_test['process_step'].replace(mapping)\n",
    "\n",
    "\n",
    "#defining the previous step on a new column\n",
    "df_test[\"prev_step\"] = df_test.groupby(['visitor_id', 'visit_id'])['process_step'].shift(-1)\n",
    "\n",
    "#if process_step column is smaller than prev_step column it will genarate True/false\n",
    "\n",
    "test_error_rate = (df_test[\"process_step\"] < df_test[\"prev_step\"])\n",
    "df_test[\"error\"] = test_error_rate\n",
    "\n",
    "# as we know for boolean data type true = 1 and false = 0 \n",
    "# we can use the mean function to find out the avarage error rate for test group users\n",
    "test_group_error_rate = test_error_rate.mean().round(4)\n",
    "\n",
    "\n",
    "'''################'''\n",
    "\n",
    "# we will follow exactly the same steps that we did for test group\n",
    "mapping = {\n",
    "    'start': 'step_0',\n",
    "    'step_1': 'step_1',\n",
    "    'step_2': 'step_2',\n",
    "    'step_3': 'step_3',\n",
    "    'confirm': 'step_4'\n",
    "}\n",
    "df_control['process_step'] = df_control['process_step'].replace(mapping)\n",
    "\n",
    "df_control[\"prev_step\"] = df_control.groupby(['visitor_id', 'visit_id'])['process_step'].shift(-1)\n",
    "\n",
    "control_error_rate = (df_control[\"process_step\"] < df_control[\"prev_step\"])\n",
    "df_control[\"error\"] = control_error_rate\n",
    "control_group_erro_rate = control_error_rate.mean().round(4)"
   ]
  },
  {
   "cell_type": "code",
   "execution_count": 35,
   "metadata": {},
   "outputs": [
    {
     "data": {
      "text/html": [
       "<div>\n",
       "<style scoped>\n",
       "    .dataframe tbody tr th:only-of-type {\n",
       "        vertical-align: middle;\n",
       "    }\n",
       "\n",
       "    .dataframe tbody tr th {\n",
       "        vertical-align: top;\n",
       "    }\n",
       "\n",
       "    .dataframe thead th {\n",
       "        text-align: right;\n",
       "    }\n",
       "</style>\n",
       "<table border=\"1\" class=\"dataframe\">\n",
       "  <thead>\n",
       "    <tr style=\"text-align: right;\">\n",
       "      <th></th>\n",
       "      <th>client_id</th>\n",
       "      <th>visitor_id</th>\n",
       "      <th>visit_id</th>\n",
       "      <th>process_step</th>\n",
       "      <th>date_time</th>\n",
       "      <th>groups</th>\n",
       "      <th>prev_step</th>\n",
       "      <th>error</th>\n",
       "    </tr>\n",
       "  </thead>\n",
       "  <tbody>\n",
       "    <tr>\n",
       "      <th>0</th>\n",
       "      <td>9988021</td>\n",
       "      <td>580560515_7732621733</td>\n",
       "      <td>781255054_21935453173_531117</td>\n",
       "      <td>step_3</td>\n",
       "      <td>2017-04-17 15:27:07</td>\n",
       "      <td>Test</td>\n",
       "      <td>step_2</td>\n",
       "      <td>False</td>\n",
       "    </tr>\n",
       "    <tr>\n",
       "      <th>1</th>\n",
       "      <td>9988021</td>\n",
       "      <td>580560515_7732621733</td>\n",
       "      <td>781255054_21935453173_531117</td>\n",
       "      <td>step_2</td>\n",
       "      <td>2017-04-17 15:26:51</td>\n",
       "      <td>Test</td>\n",
       "      <td>step_3</td>\n",
       "      <td>True</td>\n",
       "    </tr>\n",
       "    <tr>\n",
       "      <th>2</th>\n",
       "      <td>9988021</td>\n",
       "      <td>580560515_7732621733</td>\n",
       "      <td>781255054_21935453173_531117</td>\n",
       "      <td>step_3</td>\n",
       "      <td>2017-04-17 15:19:22</td>\n",
       "      <td>Test</td>\n",
       "      <td>step_2</td>\n",
       "      <td>False</td>\n",
       "    </tr>\n",
       "    <tr>\n",
       "      <th>3</th>\n",
       "      <td>9988021</td>\n",
       "      <td>580560515_7732621733</td>\n",
       "      <td>781255054_21935453173_531117</td>\n",
       "      <td>step_2</td>\n",
       "      <td>2017-04-17 15:19:13</td>\n",
       "      <td>Test</td>\n",
       "      <td>step_3</td>\n",
       "      <td>True</td>\n",
       "    </tr>\n",
       "    <tr>\n",
       "      <th>4</th>\n",
       "      <td>9988021</td>\n",
       "      <td>580560515_7732621733</td>\n",
       "      <td>781255054_21935453173_531117</td>\n",
       "      <td>step_3</td>\n",
       "      <td>2017-04-17 15:18:04</td>\n",
       "      <td>Test</td>\n",
       "      <td>step_2</td>\n",
       "      <td>False</td>\n",
       "    </tr>\n",
       "  </tbody>\n",
       "</table>\n",
       "</div>"
      ],
      "text/plain": [
       "   client_id            visitor_id                      visit_id process_step  \\\n",
       "0    9988021  580560515_7732621733  781255054_21935453173_531117       step_3   \n",
       "1    9988021  580560515_7732621733  781255054_21935453173_531117       step_2   \n",
       "2    9988021  580560515_7732621733  781255054_21935453173_531117       step_3   \n",
       "3    9988021  580560515_7732621733  781255054_21935453173_531117       step_2   \n",
       "4    9988021  580560515_7732621733  781255054_21935453173_531117       step_3   \n",
       "\n",
       "             date_time groups prev_step  error  \n",
       "0  2017-04-17 15:27:07   Test    step_2  False  \n",
       "1  2017-04-17 15:26:51   Test    step_3   True  \n",
       "2  2017-04-17 15:19:22   Test    step_2  False  \n",
       "3  2017-04-17 15:19:13   Test    step_3   True  \n",
       "4  2017-04-17 15:18:04   Test    step_2  False  "
      ]
     },
     "execution_count": 35,
     "metadata": {},
     "output_type": "execute_result"
    }
   ],
   "source": [
    "df_test.head(5)"
   ]
  },
  {
   "cell_type": "code",
   "execution_count": 36,
   "metadata": {},
   "outputs": [
    {
     "name": "stdout",
     "output_type": "stream",
     "text": [
      "Error rate for the 'Test' user groups process step 9.53%\n",
      "Error rate for the 'control' user groups process step 7.22%\n"
     ]
    }
   ],
   "source": [
    "print(f\"Error rate for the 'Test' user groups process step {test_group_error_rate:.2%}\")\n",
    "print(f\"Error rate for the 'control' user groups process step {control_group_erro_rate:.2%}\")"
   ]
  },
  {
   "cell_type": "code",
   "execution_count": 48,
   "metadata": {},
   "outputs": [
    {
     "data": {
      "image/png": "[encoded data removed]",
      "text/plain": [
       "<Figure size 1000x500 with 1 Axes>"
      ]
     },
     "metadata": {},
     "output_type": "display_data"
    }
   ],
   "source": [
    "plt.figure(figsize = (10,5))\n",
    "plt.hist(df_1[\"client_age\"], bins = 20, edgecolor =\"k\", alpha = 0.7) # alpha stands for transparency\n",
    "plt.xlabel(\"Client Age\")\n",
    "plt.ylabel(\"Number of Clients\")\n",
    "plt.grid(True, which = \"both\")\n",
    "plt.show()"
   ]
  },
  {
   "cell_type": "code",
   "execution_count": 37,
   "metadata": {},
   "outputs": [
    {
     "data": {
      "text/plain": [
       "'Test Group'"
      ]
     },
     "metadata": {},
     "output_type": "display_data"
    },
    {
     "data": {
      "text/html": [
       "<div>\n",
       "<style scoped>\n",
       "    .dataframe tbody tr th:only-of-type {\n",
       "        vertical-align: middle;\n",
       "    }\n",
       "\n",
       "    .dataframe tbody tr th {\n",
       "        vertical-align: top;\n",
       "    }\n",
       "\n",
       "    .dataframe thead th {\n",
       "        text-align: right;\n",
       "    }\n",
       "</style>\n",
       "<table border=\"1\" class=\"dataframe\">\n",
       "  <thead>\n",
       "    <tr style=\"text-align: right;\">\n",
       "      <th>col_0</th>\n",
       "      <th>count</th>\n",
       "    </tr>\n",
       "    <tr>\n",
       "      <th>process_step</th>\n",
       "      <th></th>\n",
       "    </tr>\n",
       "  </thead>\n",
       "  <tbody>\n",
       "    <tr>\n",
       "      <th>step_0</th>\n",
       "      <td>55773</td>\n",
       "    </tr>\n",
       "    <tr>\n",
       "      <th>step_1</th>\n",
       "      <td>38666</td>\n",
       "    </tr>\n",
       "    <tr>\n",
       "      <th>step_2</th>\n",
       "      <td>30899</td>\n",
       "    </tr>\n",
       "    <tr>\n",
       "      <th>step_3</th>\n",
       "      <td>25761</td>\n",
       "    </tr>\n",
       "    <tr>\n",
       "      <th>step_4</th>\n",
       "      <td>25600</td>\n",
       "    </tr>\n",
       "  </tbody>\n",
       "</table>\n",
       "</div>"
      ],
      "text/plain": [
       "col_0         count\n",
       "process_step       \n",
       "step_0        55773\n",
       "step_1        38666\n",
       "step_2        30899\n",
       "step_3        25761\n",
       "step_4        25600"
      ]
     },
     "metadata": {},
     "output_type": "display_data"
    },
    {
     "data": {
      "text/plain": [
       "'Control Group'"
      ]
     },
     "metadata": {},
     "output_type": "display_data"
    },
    {
     "data": {
      "text/html": [
       "<div>\n",
       "<style scoped>\n",
       "    .dataframe tbody tr th:only-of-type {\n",
       "        vertical-align: middle;\n",
       "    }\n",
       "\n",
       "    .dataframe tbody tr th {\n",
       "        vertical-align: top;\n",
       "    }\n",
       "\n",
       "    .dataframe thead th {\n",
       "        text-align: right;\n",
       "    }\n",
       "</style>\n",
       "<table border=\"1\" class=\"dataframe\">\n",
       "  <thead>\n",
       "    <tr style=\"text-align: right;\">\n",
       "      <th>col_0</th>\n",
       "      <th>count</th>\n",
       "    </tr>\n",
       "    <tr>\n",
       "      <th>process_step</th>\n",
       "      <th></th>\n",
       "    </tr>\n",
       "  </thead>\n",
       "  <tbody>\n",
       "    <tr>\n",
       "      <th>step_0</th>\n",
       "      <td>45380</td>\n",
       "    </tr>\n",
       "    <tr>\n",
       "      <th>step_1</th>\n",
       "      <td>29544</td>\n",
       "    </tr>\n",
       "    <tr>\n",
       "      <th>step_2</th>\n",
       "      <td>25773</td>\n",
       "    </tr>\n",
       "    <tr>\n",
       "      <th>step_3</th>\n",
       "      <td>22503</td>\n",
       "    </tr>\n",
       "    <tr>\n",
       "      <th>step_4</th>\n",
       "      <td>17336</td>\n",
       "    </tr>\n",
       "  </tbody>\n",
       "</table>\n",
       "</div>"
      ],
      "text/plain": [
       "col_0         count\n",
       "process_step       \n",
       "step_0        45380\n",
       "step_1        29544\n",
       "step_2        25773\n",
       "step_3        22503\n",
       "step_4        17336"
      ]
     },
     "metadata": {},
     "output_type": "display_data"
    },
    {
     "name": "stderr",
     "output_type": "stream",
     "text": [
      "C:\\Users\\Amira\\AppData\\Local\\Temp\\ipykernel_14344\\1131083871.py:12: FutureWarning: \n",
      "\n",
      "Passing `palette` without assigning `hue` is deprecated and will be removed in v0.14.0. Assign the `x` variable to `hue` and set `legend=False` for the same effect.\n",
      "\n",
      "  sns.barplot(x= test_table.index, y = test_table[\"count\"], palette = \"Set3\", ).set(title=\"User from Test Group\")\n"
     ]
    },
    {
     "data": {
      "image/png": "[encoded data removed]",
      "text/plain": [
       "<Figure size 640x480 with 1 Axes>"
      ]
     },
     "metadata": {},
     "output_type": "display_data"
    },
    {
     "name": "stderr",
     "output_type": "stream",
     "text": [
      "C:\\Users\\Amira\\AppData\\Local\\Temp\\ipykernel_14344\\1131083871.py:15: FutureWarning: \n",
      "\n",
      "Passing `palette` without assigning `hue` is deprecated and will be removed in v0.14.0. Assign the `x` variable to `hue` and set `legend=False` for the same effect.\n",
      "\n",
      "  sns.barplot(x= control_table.index, y = control_table[\"count\"], palette = \"Set3\").set(title=\"User from Control Group\")\n"
     ]
    },
    {
     "data": {
      "image/png": "[encoded data removed]",
      "text/plain": [
       "<Figure size 640x480 with 1 Axes>"
      ]
     },
     "metadata": {},
     "output_type": "display_data"
    }
   ],
   "source": [
    "# UNIVARIATE ANALYSIS ON CATEGORICAL VARIABLE 'process_step'\n",
    "df_test[\"process_step\"].value_counts(normalize=True)\n",
    "\n",
    "test_table = pd.crosstab(index = df_test[\"process_step\"],\n",
    "                       columns = \"count\")\n",
    "display(\"Test Group\",test_table)\n",
    "\n",
    "control_table = pd.crosstab(index = df_control[\"process_step\"],\n",
    "                       columns = \"count\")\n",
    "display(\"Control Group\",control_table)\n",
    "\n",
    "sns.barplot(x= test_table.index, y = test_table[\"count\"], palette = \"Set3\", ).set(title=\"User from Test Group\")\n",
    "plt.show()\n",
    "\n",
    "sns.barplot(x= control_table.index, y = control_table[\"count\"], palette = \"Set3\").set(title=\"User from Control Group\")\n",
    "plt.savefig(\"plt.png\", dpi = 720)\n",
    "plt.show()"
   ]
  },
  {
   "cell_type": "code",
   "execution_count": 38,
   "metadata": {},
   "outputs": [
    {
     "data": {
      "text/plain": [
       "'############################## STEP 3.3 > Analyzing the time spent on each step for the TEST & CONTROL GROUP USER ###########################'"
      ]
     },
     "execution_count": 38,
     "metadata": {},
     "output_type": "execute_result"
    }
   ],
   "source": [
    "'''############################## STEP 3.3 > Analyzing the time spent on each step for the TEST & CONTROL GROUP USER ###########################'''"
   ]
  },
  {
   "cell_type": "code",
   "execution_count": 39,
   "metadata": {},
   "outputs": [
    {
     "name": "stderr",
     "output_type": "stream",
     "text": [
      "C:\\Users\\Amira\\AppData\\Local\\Temp\\ipykernel_14344\\3765999776.py:2: SettingWithCopyWarning: \n",
      "A value is trying to be set on a copy of a slice from a DataFrame.\n",
      "Try using .loc[row_indexer,col_indexer] = value instead\n",
      "\n",
      "See the caveats in the documentation: https://pandas.pydata.org/pandas-docs/stable/user_guide/indexing.html#returning-a-view-versus-a-copy\n",
      "  df_test[\"date_time\"] = pd.to_datetime(df_test[\"date_time\"])\n",
      "C:\\Users\\Amira\\AppData\\Local\\Temp\\ipykernel_14344\\3765999776.py:3: SettingWithCopyWarning: \n",
      "A value is trying to be set on a copy of a slice from a DataFrame.\n",
      "Try using .loc[row_indexer,col_indexer] = value instead\n",
      "\n",
      "See the caveats in the documentation: https://pandas.pydata.org/pandas-docs/stable/user_guide/indexing.html#returning-a-view-versus-a-copy\n",
      "  df_control[\"date_time\"] = pd.to_datetime(df_control[\"date_time\"])\n"
     ]
    }
   ],
   "source": [
    "#first thing converting to date time\n",
    "df_test[\"date_time\"] = pd.to_datetime(df_test[\"date_time\"])\n",
    "df_control[\"date_time\"] = pd.to_datetime(df_control[\"date_time\"])\n",
    "\n",
    "#sort them on visit_id and date_time\n",
    "df_test_sorted = df_test.sort_values(by=[\"visit_id\",\"date_time\"])\n",
    "df_control_sorted = df_control.sort_values(by=[\"visit_id\",\"date_time\"])\n",
    "\n",
    "#calculate the time spent / difference between one step to another\n",
    "df_test_sorted[\"time_spent\"] = df_test_sorted.groupby(\"visit_id\")[\"date_time\"].diff()\n",
    "df_control_sorted[\"time_spent\"] = df_control_sorted.groupby(\"visit_id\")[\"date_time\"].diff()\n",
    "\n",
    "\n",
    "df_test_sorted[\"duration\"] = df_test_sorted.groupby(\"visit_id\")[\"date_time\"].diff().dt.total_seconds()\n",
    "df_control_sorted[\"duration\"] = df_control_sorted.groupby(\"visit_id\")[\"date_time\"].diff().dt.total_seconds()\n",
    "\n",
    "# dropping the 'NaT' for further analyse\n",
    "test_valid_steps = df_test_sorted[df_test_sorted[\"time_spent\"].notna()]\n",
    "control_valid_steps = df_control_sorted[df_control_sorted[\"time_spent\"].notna()]\n",
    "\n",
    "# finding avg time difference for each step\n",
    "test_group_average_duration = test_valid_steps.groupby(\"process_step\")[\"time_spent\"].mean()\n",
    "control_group_average_duration = control_valid_steps.groupby(\"process_step\")[\"time_spent\"].mean()\n",
    "\n",
    "# convert the timedelta to total seconds and round the values\n",
    "test_group_average_duration_in_seconds = test_group_average_duration.dt.total_seconds().round().astype(int)\n",
    "control_group_average_duration_in_seconds = control_group_average_duration.dt.total_seconds().round().astype(int)"
   ]
  },
  {
   "cell_type": "code",
   "execution_count": 40,
   "metadata": {},
   "outputs": [
    {
     "data": {
      "text/html": [
       "<div>\n",
       "<style scoped>\n",
       "    .dataframe tbody tr th:only-of-type {\n",
       "        vertical-align: middle;\n",
       "    }\n",
       "\n",
       "    .dataframe tbody tr th {\n",
       "        vertical-align: top;\n",
       "    }\n",
       "\n",
       "    .dataframe thead th {\n",
       "        text-align: right;\n",
       "    }\n",
       "</style>\n",
       "<table border=\"1\" class=\"dataframe\">\n",
       "  <thead>\n",
       "    <tr style=\"text-align: right;\">\n",
       "      <th></th>\n",
       "      <th>client_id</th>\n",
       "      <th>visitor_id</th>\n",
       "      <th>visit_id</th>\n",
       "      <th>process_step</th>\n",
       "      <th>date_time</th>\n",
       "      <th>groups</th>\n",
       "      <th>prev_step</th>\n",
       "      <th>error</th>\n",
       "      <th>time_spent</th>\n",
       "      <th>duration</th>\n",
       "    </tr>\n",
       "  </thead>\n",
       "  <tbody>\n",
       "    <tr>\n",
       "      <th>106314</th>\n",
       "      <td>3561384</td>\n",
       "      <td>451664975_1722933822</td>\n",
       "      <td>100012776_37918976071_457913</td>\n",
       "      <td>step_4</td>\n",
       "      <td>2017-04-26 13:22:17</td>\n",
       "      <td>Test</td>\n",
       "      <td>NaN</td>\n",
       "      <td>False</td>\n",
       "      <td>NaT</td>\n",
       "      <td>NaN</td>\n",
       "    </tr>\n",
       "    <tr>\n",
       "      <th>106313</th>\n",
       "      <td>3561384</td>\n",
       "      <td>451664975_1722933822</td>\n",
       "      <td>100012776_37918976071_457913</td>\n",
       "      <td>step_4</td>\n",
       "      <td>2017-04-26 13:23:09</td>\n",
       "      <td>Test</td>\n",
       "      <td>step_4</td>\n",
       "      <td>False</td>\n",
       "      <td>0 days 00:00:52</td>\n",
       "      <td>52.0</td>\n",
       "    </tr>\n",
       "    <tr>\n",
       "      <th>235345</th>\n",
       "      <td>7338123</td>\n",
       "      <td>612065484_94198474375</td>\n",
       "      <td>100019538_17884295066_43909</td>\n",
       "      <td>step_0</td>\n",
       "      <td>2017-04-09 16:20:56</td>\n",
       "      <td>Test</td>\n",
       "      <td>NaN</td>\n",
       "      <td>False</td>\n",
       "      <td>NaT</td>\n",
       "      <td>NaN</td>\n",
       "    </tr>\n",
       "    <tr>\n",
       "      <th>235344</th>\n",
       "      <td>7338123</td>\n",
       "      <td>612065484_94198474375</td>\n",
       "      <td>100019538_17884295066_43909</td>\n",
       "      <td>step_1</td>\n",
       "      <td>2017-04-09 16:21:12</td>\n",
       "      <td>Test</td>\n",
       "      <td>step_0</td>\n",
       "      <td>False</td>\n",
       "      <td>0 days 00:00:16</td>\n",
       "      <td>16.0</td>\n",
       "    </tr>\n",
       "    <tr>\n",
       "      <th>235343</th>\n",
       "      <td>7338123</td>\n",
       "      <td>612065484_94198474375</td>\n",
       "      <td>100019538_17884295066_43909</td>\n",
       "      <td>step_2</td>\n",
       "      <td>2017-04-09 16:21:21</td>\n",
       "      <td>Test</td>\n",
       "      <td>step_1</td>\n",
       "      <td>False</td>\n",
       "      <td>0 days 00:00:09</td>\n",
       "      <td>9.0</td>\n",
       "    </tr>\n",
       "  </tbody>\n",
       "</table>\n",
       "</div>"
      ],
      "text/plain": [
       "        client_id             visitor_id                      visit_id  \\\n",
       "106314    3561384   451664975_1722933822  100012776_37918976071_457913   \n",
       "106313    3561384   451664975_1722933822  100012776_37918976071_457913   \n",
       "235345    7338123  612065484_94198474375   100019538_17884295066_43909   \n",
       "235344    7338123  612065484_94198474375   100019538_17884295066_43909   \n",
       "235343    7338123  612065484_94198474375   100019538_17884295066_43909   \n",
       "\n",
       "       process_step           date_time groups prev_step  error  \\\n",
       "106314       step_4 2017-04-26 13:22:17   Test       NaN  False   \n",
       "106313       step_4 2017-04-26 13:23:09   Test    step_4  False   \n",
       "235345       step_0 2017-04-09 16:20:56   Test       NaN  False   \n",
       "235344       step_1 2017-04-09 16:21:12   Test    step_0  False   \n",
       "235343       step_2 2017-04-09 16:21:21   Test    step_1  False   \n",
       "\n",
       "            time_spent  duration  \n",
       "106314             NaT       NaN  \n",
       "106313 0 days 00:00:52      52.0  \n",
       "235345             NaT       NaN  \n",
       "235344 0 days 00:00:16      16.0  \n",
       "235343 0 days 00:00:09       9.0  "
      ]
     },
     "execution_count": 40,
     "metadata": {},
     "output_type": "execute_result"
    }
   ],
   "source": [
    "df_test_sorted.head(5)"
   ]
  },
  {
   "cell_type": "code",
   "execution_count": 41,
   "metadata": {},
   "outputs": [
    {
     "name": "stdout",
     "output_type": "stream",
     "text": [
      "Average duration for test group user: 84.29069309200862\n",
      "Average duration for control group user: 83.66142117455952\n",
      "Average time difference to move each step among Test Group User:\n",
      "process_step\n",
      "step_0    152\n",
      "step_1     38\n",
      "step_2     48\n",
      "step_3     97\n",
      "step_4    130\n",
      "Name: time_spent, dtype: int32\n",
      "Average time difference to move each step among Control Group User:\n",
      "process_step\n",
      "step_0    175\n",
      "step_1     43\n",
      "step_2     39\n",
      "step_3     94\n",
      "step_4    130\n",
      "Name: time_spent, dtype: int32\n",
      "To move from one process step to another Control group user on average take 96.2 seconds \n",
      "To move from one process step to another Test group user on average take 93.0 seconds \n"
     ]
    }
   ],
   "source": [
    "test_group_duration = df_test_sorted[\"duration\"].mean()\n",
    "control_group_duration = df_control_sorted[\"duration\"].mean()\n",
    "\n",
    "print(f\"Average duration for test group user: {test_group_duration}\")\n",
    "print(f\"Average duration for control group user: {control_group_duration}\")\n",
    "\n",
    "print(\"Average time difference to move each step among Test Group User:\")\n",
    "print(test_group_average_duration_in_seconds)\n",
    "print(\"Average time difference to move each step among Control Group User:\")\n",
    "print(control_group_average_duration_in_seconds)\n",
    "\n",
    "control_group_duration = control_group_average_duration_in_seconds.mean()\n",
    "print(f\"To move from one process step to another Control group user on average take {control_group_duration} seconds \")\n",
    "test_group_duration = test_group_average_duration_in_seconds.mean()\n",
    "print(f\"To move from one process step to another Test group user on average take {test_group_duration} seconds \")"
   ]
  },
  {
   "cell_type": "code",
   "execution_count": 42,
   "metadata": {},
   "outputs": [],
   "source": [
    "#2nd hypoooooooooooooooooooooooooooooooooooooooooooooooooooooooooooooooooooooooooo THESIS..............."
   ]
  },
  {
   "cell_type": "code",
   "execution_count": 43,
   "metadata": {},
   "outputs": [
    {
     "name": "stdout",
     "output_type": "stream",
     "text": [
      "T-statistic: 0.7255\n",
      "P-value: 0.4681\n"
     ]
    }
   ],
   "source": [
    "test_durations = df_test_sorted['duration'].dropna()\n",
    "control_durations = df_control_sorted['duration'].dropna()\n",
    "\n",
    "\n",
    "t_stat, p_value = ttest_ind(test_durations, control_durations)\n",
    "\n",
    "print(f\"T-statistic: {t_stat:.4f}\")\n",
    "print(f\"P-value: {p_value:.4f}\")"
   ]
  },
  {
   "cell_type": "code",
   "execution_count": 44,
   "metadata": {},
   "outputs": [
    {
     "name": "stdout",
     "output_type": "stream",
     "text": [
      "We cannot reject the null 0.47545470538507695\n"
     ]
    }
   ],
   "source": [
    "# H0: Average duration in each step for test group  = Average duration in each step for control group\n",
    "# H1: Average duration in each step for test group  != Average duration in each step for control group\n",
    "\n",
    "#significance level = 0.05\n",
    "alpha = 0.05\n",
    "p_value = st.ttest_ind(test_durations, control_durations, equal_var = False)[1]\n",
    "\n",
    "if alpha > p_value:\n",
    "  print(\"We can reject the null\", p_value)\n",
    "else:\n",
    "  print(\"We cannot reject the null\", p_value)"
   ]
  },
  {
   "cell_type": "code",
   "execution_count": 45,
   "metadata": {},
   "outputs": [],
   "source": [
    "##################################'''''''''''''Initializing Tableau Preparation''''''''''''''''''#############################\n",
    "df_4 = pd.concat([df_test_sorted,df_control_sorted], axis = 0)\n",
    "df_1 = pd.merge(df_1, df_3, on=\"client_id\")"
   ]
  },
  {
   "cell_type": "code",
   "execution_count": 46,
   "metadata": {},
   "outputs": [],
   "source": [
    "#converting dataframe to excel file for tableau\n",
    "\n",
    "df_1.to_csv(\"van_guard_client_DETAIL.csv\")\n",
    "df_4.to_csv(\"van_guard_client_ACTIVITY.csv\")"
   ]
  }
 ],
 "metadata": {
  "kernelspec": {
   "display_name": "Python 3",
   "language": "python",
   "name": "python3"
  },
  "language_info": {
   "codemirror_mode": {
    "name": "ipython",
    "version": 3
   },
   "file_extension": ".py",
   "mimetype": "text/x-python",
   "name": "python",
   "nbconvert_exporter": "python",
   "pygments_lexer": "ipython3",
   "version": "3.12.6"
  }
 },
 "nbformat": 4,
 "nbformat_minor": 2
}
